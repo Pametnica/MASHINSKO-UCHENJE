{
 "cells": [
  {
   "cell_type": "markdown",
   "id": "f7770d5f-f562-4598-9be9-522f47c1dbbc",
   "metadata": {},
   "source": [
    "## ЕНТРОПИЈА (дрва на одлучување)"
   ]
  },
  {
   "cell_type": "code",
   "execution_count": null,
   "id": "e76eb7ad-b522-4c64-904b-6039f7842c7a",
   "metadata": {},
   "outputs": [],
   "source": [
    "from sklearn.tree import DecisionTreeClassifier"
   ]
  },
  {
   "cell_type": "code",
   "execution_count": null,
   "id": "fde8f840-2bc5-472d-950d-0466211ad1d8",
   "metadata": {},
   "outputs": [],
   "source": [
    "clf = DecisionTreeClassifier(criterion='entropy')\n",
    "clf.fit(x_train_е, y_train_е)"
   ]
  },
  {
   "cell_type": "code",
   "execution_count": null,
   "id": "be2d5bf4-54e5-4326-b262-28ea636da1a3",
   "metadata": {},
   "outputs": [],
   "source": [
    "y_pred = clf.predict(x_test)"
   ]
  },
  {
   "cell_type": "raw",
   "id": "9b8416f8-f769-4e0f-a5e0-ea93c285a9d0",
   "metadata": {},
   "source": [
    "Прогноза  "
   ]
  },
  {
   "cell_type": "code",
   "execution_count": null,
   "id": "94c871ed-8f7e-4c68-95df-d65d1e5840fa",
   "metadata": {},
   "outputs": [],
   "source": [
    "from sklearn.metrics import accuracy_score"
   ]
  },
  {
   "cell_type": "code",
   "execution_count": null,
   "id": "23be503f-0bba-4328-bc75-95394dadd069",
   "metadata": {},
   "outputs": [],
   "source": [
    "print(f'Prognoza: {accuracy_score(y_test, y_pred)}') "
   ]
  },
  {
   "cell_type": "code",
   "execution_count": null,
   "id": "71eac89c-de5e-424b-b733-309ad5dd3d61",
   "metadata": {},
   "outputs": [],
   "source": [
    "accuracy_score(y_train, clf.predict(x_train)) "
   ]
  },
  {
   "cell_type": "markdown",
   "id": "55eb926c-b54e-43db-b2d1-e537d31bb713",
   "metadata": {},
   "source": [
    "## Наивен Бејасов со сикит леарн"
   ]
  },
  {
   "cell_type": "code",
   "execution_count": null,
   "id": "ea97e355-60cf-4b07-bb5e-a279d5450d4c",
   "metadata": {},
   "outputs": [],
   "source": [
    "from sklearn.naive_bayes import GaussianNB"
   ]
  },
  {
   "cell_type": "code",
   "execution_count": null,
   "id": "bd644db0-e037-425d-b1f5-a16465d4deff",
   "metadata": {},
   "outputs": [],
   "source": [
    "model1 = GaussianNB()\n",
    "model1.fit(x_train, y_train)"
   ]
  },
  {
   "cell_type": "code",
   "execution_count": null,
   "id": "c5683c3a-3bb2-41e4-b16c-1a8e6cf49d83",
   "metadata": {},
   "outputs": [],
   "source": [
    "from sklearn.metrics import accuracy_score"
   ]
  },
  {
   "cell_type": "code",
   "execution_count": null,
   "id": "a9560f53-34a2-43e8-a22f-e834fef5966d",
   "metadata": {},
   "outputs": [],
   "source": [
    "print(f'Prognoza: {accuracy_score(y_test, y_pred)}') "
   ]
  },
  {
   "cell_type": "code",
   "execution_count": null,
   "id": "b795e25b-e056-4dd2-b0de-c454dbbb89fa",
   "metadata": {},
   "outputs": [],
   "source": [
    "accuracy_score(y_train, clf.predict(x_train)) "
   ]
  },
  {
   "cell_type": "markdown",
   "id": "d3ca1254-b1d5-4d6e-8a1d-1cc1411ca703",
   "metadata": {},
   "source": [
    "## MLPClassifier multi layer perceptron"
   ]
  },
  {
   "cell_type": "code",
   "execution_count": null,
   "id": "aaea090c-849c-4c26-a4f4-4fa0d4238047",
   "metadata": {},
   "outputs": [],
   "source": [
    "from sklearn.neural_network import MLPClassifier"
   ]
  },
  {
   "cell_type": "code",
   "execution_count": null,
   "id": "5918d48a-98b5-4878-8102-437374047fce",
   "metadata": {},
   "outputs": [],
   "source": [
    "clf = MLPClassifier(max_iter=1000, random_state=1)\n",
    "clf.fit(x_train, y_train)"
   ]
  },
  {
   "cell_type": "code",
   "execution_count": null,
   "id": "1aa3b762-f1fc-471c-a8ed-28c517d305ff",
   "metadata": {},
   "outputs": [],
   "source": [
    "clf = MLPClassifier(solver='lbfgs', alpha=1e-5, hidden_layer_sizes=(15,), random_state=1)\n",
    "clf.fit(x_train, y_train)"
   ]
  },
  {
   "cell_type": "code",
   "execution_count": null,
   "id": "51c01c8e-b35b-4e5f-9933-5032812ad15a",
   "metadata": {},
   "outputs": [],
   "source": [
    "clf = MLPClassifier(activation='relu', hidden_layer_sizes=(50,), random_state=1)\n",
    "clf.fit(x_train, y_train)"
   ]
  },
  {
   "cell_type": "code",
   "execution_count": null,
   "id": "f0253068-7fe1-454b-8af4-2609129936af",
   "metadata": {},
   "outputs": [],
   "source": [
    "y_pred = clf1.predict(x_test)\n",
    "print(\"Точност:\", accuracy_score(y_test, y_pred))"
   ]
  },
  {
   "cell_type": "markdown",
   "id": "1c971a48-7756-4660-b699-fd1cafe0a0bb",
   "metadata": {},
   "source": [
    "## SGDClassifier"
   ]
  },
  {
   "cell_type": "code",
   "execution_count": null,
   "id": "9fc05a43-3765-4aa3-b356-29965b9a8529",
   "metadata": {},
   "outputs": [],
   "source": [
    "from sklearn.linear_model import SGDClassifier\n",
    "clf = SGDClassifier(loss='log', max_iter=1000, random_state=1)\n",
    "clf.fit(x_train, y_train)"
   ]
  },
  {
   "cell_type": "code",
   "execution_count": null,
   "id": "64981f78-76d6-4df4-9fa5-ecab86901722",
   "metadata": {},
   "outputs": [],
   "source": [
    "y_pred = clf1.predict(x_test)\n",
    "print(\"Точност:\", accuracy_score(y_test, y_pred))"
   ]
  },
  {
   "cell_type": "markdown",
   "id": "46076c95-ff97-4a43-9ddd-76b7d1a8c878",
   "metadata": {},
   "source": [
    "## MLPRegressor"
   ]
  },
  {
   "cell_type": "code",
   "execution_count": null,
   "id": "d5ab6374-f4f4-4703-820a-7982cee842d0",
   "metadata": {},
   "outputs": [],
   "source": [
    "from sklearn.neural_network import MLPRegressor"
   ]
  },
  {
   "cell_type": "code",
   "execution_count": null,
   "id": "40229ef7-f003-4101-8615-f926c003819e",
   "metadata": {},
   "outputs": [],
   "source": [
    "reg = MLPRegressor(solver='adam', alpha=0.001, hidden_layer_sizes=(50,), random_state=1)\n",
    "reg.fit(x_train, y_train)\n"
   ]
  },
  {
   "cell_type": "code",
   "execution_count": null,
   "id": "6446955f-bddd-4525-95d6-48a5dad1ff65",
   "metadata": {},
   "outputs": [],
   "source": [
    "reg = MLPRegressor(hidden_layer_sizes=(128, 64, 32), solver='adam', max_iter=500, random_state=1)\n",
    "reg.fit(x_train, y_train)"
   ]
  },
  {
   "cell_type": "markdown",
   "id": "6d6c3789-d310-4c80-b29e-2f2f5be63e8b",
   "metadata": {},
   "source": [
    "## Logistic Regression"
   ]
  },
  {
   "cell_type": "code",
   "execution_count": null,
   "id": "df4e3301-5f34-4f47-8f46-22e2273a6e36",
   "metadata": {},
   "outputs": [],
   "source": [
    "from sklearn.linear_model import LogisticRegression\n",
    "clf = LogisticRegression(max_iter=1000, random_state=1)\n",
    "clf.fit(x_train, y_train)\n"
   ]
  },
  {
   "cell_type": "markdown",
   "id": "ecdfc8df-703f-451e-ba54-d5f2b6863de6",
   "metadata": {},
   "source": [
    "## Support Vector Classifier (SVC)"
   ]
  },
  {
   "cell_type": "code",
   "execution_count": null,
   "id": "3f68c054-8891-4182-861b-ac3c9eb70d57",
   "metadata": {},
   "outputs": [],
   "source": [
    "from sklearn.svm import SVC\n",
    "clf = SVC(kernel='linear', random_state=1)\n",
    "clf.fit(x_train, y_train)\n"
   ]
  },
  {
   "cell_type": "markdown",
   "id": "3728c95a-9052-4cb9-928a-c2e7e6c187b2",
   "metadata": {},
   "source": [
    "## Support Vector Regression (SVR)"
   ]
  },
  {
   "cell_type": "code",
   "execution_count": null,
   "id": "e7471bcd-d7fc-44cc-bbba-b47f137ac2fa",
   "metadata": {},
   "outputs": [],
   "source": [
    "from sklearn.svm import SVR\n",
    "clf = SVR(kernel='linear')\n",
    "clf.fit(x_train, y_train)\n"
   ]
  },
  {
   "cell_type": "markdown",
   "id": "d358723b-5247-4537-9b55-d5860c504bfa",
   "metadata": {},
   "source": [
    "## Random Forest Classifier"
   ]
  },
  {
   "cell_type": "code",
   "execution_count": null,
   "id": "03148cf0-68af-4a91-a6be-749a293b6470",
   "metadata": {},
   "outputs": [],
   "source": [
    "from sklearn.ensemble import RandomForestClassifier\n",
    "clf = RandomForestClassifier(n_estimators=100, random_state=1)\n",
    "clf.fit(x_train, y_train)\n"
   ]
  },
  {
   "cell_type": "markdown",
   "id": "2e082781-3fe4-4ed9-b76b-a71f909d4b75",
   "metadata": {},
   "source": [
    "## Random Forest Regressor"
   ]
  },
  {
   "cell_type": "code",
   "execution_count": null,
   "id": "e68000b2-6733-43c9-a651-9e6b6f115646",
   "metadata": {},
   "outputs": [],
   "source": [
    "from sklearn.ensemble import RandomForestRegressor\n",
    "clf = RandomForestRegressor(n_estimators=100, random_state=1)\n",
    "clf.fit(x_train, y_train)\n"
   ]
  },
  {
   "cell_type": "markdown",
   "id": "106eee9c-6772-4e6d-bde7-2e7772b9d041",
   "metadata": {},
   "source": [
    "## Gradient Boosting Classifier"
   ]
  },
  {
   "cell_type": "code",
   "execution_count": null,
   "id": "d5e98fd8-ac39-49b9-8b43-ac04e95eb6dd",
   "metadata": {},
   "outputs": [],
   "source": [
    "from sklearn.ensemble import GradientBoostingClassifier\n",
    "clf = GradientBoostingClassifier(n_estimators=100, random_state=1)\n",
    "clf.fit(x_train, y_train)\n"
   ]
  },
  {
   "cell_type": "markdown",
   "id": "7ab4aa61-d989-463f-afff-839323fc9c53",
   "metadata": {},
   "source": [
    "## Gradient Boosting Regressor"
   ]
  },
  {
   "cell_type": "code",
   "execution_count": null,
   "id": "db10b577-18f0-4ef3-a822-f7c4d7a77e43",
   "metadata": {},
   "outputs": [],
   "source": [
    "from sklearn.ensemble import GradientBoostingRegressor\n",
    "clf = GradientBoostingRegressor(n_estimators=100, random_state=1)\n",
    "clf.fit(x_train, y_train)\n"
   ]
  },
  {
   "cell_type": "markdown",
   "id": "29255c22-0dac-42a7-8f27-4664900da776",
   "metadata": {},
   "source": [
    "## k-Nearest Neighbors Classifier"
   ]
  },
  {
   "cell_type": "code",
   "execution_count": null,
   "id": "0107e6d3-0508-474b-8a97-fc25ef0ad7b1",
   "metadata": {},
   "outputs": [],
   "source": [
    "from sklearn.neighbors import KNeighborsClassifier\n",
    "clf = KNeighborsClassifier(n_neighbors=5)\n",
    "clf.fit(x_train, y_train)\n"
   ]
  },
  {
   "cell_type": "markdown",
   "id": "bbabe6be-661b-4f22-a52b-684c282e0cd0",
   "metadata": {},
   "source": [
    "## k-Nearest Neighbors Regressor"
   ]
  },
  {
   "cell_type": "code",
   "execution_count": null,
   "id": "6fce4d46-86db-4611-8ad7-4c1235e5d8ea",
   "metadata": {},
   "outputs": [],
   "source": [
    "from sklearn.neighbors import KNeighborsRegressor\n",
    "clf = KNeighborsRegressor(n_neighbors=5)\n",
    "clf.fit(x_train, y_train)\n"
   ]
  },
  {
   "cell_type": "markdown",
   "id": "d9973334-3754-462a-a396-9619496e6777",
   "metadata": {},
   "source": [
    "## Decision Tree Regressor"
   ]
  },
  {
   "cell_type": "code",
   "execution_count": null,
   "id": "0bac886f-111e-494e-8b70-8d76ffb792af",
   "metadata": {},
   "outputs": [],
   "source": [
    "from sklearn.tree import DecisionTreeRegressor\n",
    "clf = DecisionTreeRegressor(random_state=1)\n",
    "clf.fit(x_train, y_train)\n"
   ]
  },
  {
   "cell_type": "markdown",
   "id": "45edb489-f80a-45a0-b47d-6ab408a88b12",
   "metadata": {},
   "source": [
    "## XGBoost Classifier"
   ]
  },
  {
   "cell_type": "code",
   "execution_count": null,
   "id": "8a0224a4-88a2-4a27-b5c8-7aaa935d7d8e",
   "metadata": {},
   "outputs": [],
   "source": [
    "import xgboost as xgb\n",
    "clf = xgb.XGBClassifier(n_estimators=100, random_state=1)\n",
    "clf.fit(x_train, y_train)\n"
   ]
  },
  {
   "cell_type": "markdown",
   "id": "b6050e26-0aab-4ad2-ad83-4634685e8bbf",
   "metadata": {},
   "source": [
    "## XGBoost Regressor"
   ]
  },
  {
   "cell_type": "code",
   "execution_count": null,
   "id": "45c77503-29da-4baa-9f1d-2cffe9f4a920",
   "metadata": {},
   "outputs": [],
   "source": [
    "import xgboost as xgb\n",
    "clf = xgb.XGBRegressor(n_estimators=100, random_state=1)\n",
    "clf.fit(x_train, y_train)\n"
   ]
  },
  {
   "cell_type": "markdown",
   "id": "e4640e11-0d32-4073-b6b0-581b1df38670",
   "metadata": {},
   "source": [
    "##  LightGBM Classifier"
   ]
  },
  {
   "cell_type": "code",
   "execution_count": null,
   "id": "d33e3f16-5e82-4647-8dbf-bbc478432a28",
   "metadata": {},
   "outputs": [],
   "source": [
    "import lightgbm as lgb\n",
    "clf = lgb.LGBMClassifier(n_estimators=100, random_state=1)\n",
    "clf.fit(x_train, y_train)\n"
   ]
  },
  {
   "cell_type": "markdown",
   "id": "ca1856f6-49bb-4b91-8ff5-941a8f628a29",
   "metadata": {},
   "source": [
    "## LightGBM Regressor"
   ]
  },
  {
   "cell_type": "code",
   "execution_count": null,
   "id": "78f7e127-9871-4667-82fe-6923cc4546e9",
   "metadata": {},
   "outputs": [],
   "source": [
    "import lightgbm as lgb\n",
    "clf = lgb.LGBMRegressor(n_estimators=100, random_state=1)\n",
    "clf.fit(x_train, y_train)\n"
   ]
  },
  {
   "cell_type": "code",
   "execution_count": null,
   "id": "7dcacda0-9d07-4842-9aab-5dacb4da3f2f",
   "metadata": {},
   "outputs": [],
   "source": []
  }
 ],
 "metadata": {
  "kernelspec": {
   "display_name": "Python 3 (ipykernel)",
   "language": "python",
   "name": "python3"
  },
  "language_info": {
   "codemirror_mode": {
    "name": "ipython",
    "version": 3
   },
   "file_extension": ".py",
   "mimetype": "text/x-python",
   "name": "python",
   "nbconvert_exporter": "python",
   "pygments_lexer": "ipython3",
   "version": "3.12.6"
  }
 },
 "nbformat": 4,
 "nbformat_minor": 5
}
