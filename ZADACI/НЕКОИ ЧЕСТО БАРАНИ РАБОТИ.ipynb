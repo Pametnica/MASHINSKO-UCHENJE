{
 "cells": [
  {
   "cell_type": "markdown",
   "id": "d68e7aea-b815-4d14-9d96-78c0ebdbd116",
   "metadata": {},
   "source": [
    "## ЕНКОДИРАЊЕ"
   ]
  },
  {
   "cell_type": "markdown",
   "id": "778a94e6-2be5-49e3-8e97-8c9f9aa2bcfc",
   "metadata": {},
   "source": [
    "Се енкодираат оние колони кои имаат текст во нив (може и сите ништо не смета)- најлесно е со лабел енцодинг"
   ]
  },
  {
   "cell_type": "code",
   "execution_count": null,
   "id": "9a86571f-2856-4477-a290-8615f1bfff4c",
   "metadata": {},
   "outputs": [],
   "source": [
    "from sklearn.preprocessing import LabelEncoder"
   ]
  },
  {
   "cell_type": "code",
   "execution_count": null,
   "id": "8cf49d8c-3ea2-41f8-94ba-5fc5dd93969f",
   "metadata": {},
   "outputs": [],
   "source": [
    "encoder_ime_na_kolona= LabelEncoder()\n",
    "df['ime_na_kolona'] = encoder_ime_na_kolona.fit_transform(df['ime_na_kolona'])"
   ]
  },
  {
   "cell_type": "code",
   "execution_count": null,
   "id": "08c05670-71b0-4dc2-ac0a-394e2dc07e0a",
   "metadata": {},
   "outputs": [],
   "source": [
    "x_e= df[['ime_na_kolona1', 'ime_na_kolona2', 'ime_na_kolona3','ime_na_kolona4','ime_na_kolona5','ime_na_kolonan']]  # Влезни податоци\n",
    "y_e = df['ime_na_kolona_cel'] "
   ]
  },
  {
   "cell_type": "markdown",
   "id": "dd4fc3aa-5a92-45fd-b22d-77d899c30894",
   "metadata": {},
   "source": [
    "## Делење на множеството"
   ]
  },
  {
   "cell_type": "code",
   "execution_count": null,
   "id": "0dbffb59-f9d7-4754-b9f8-cf846afae0f9",
   "metadata": {},
   "outputs": [],
   "source": [
    "from sklearn.model_selection import train_test_split"
   ]
  },
  {
   "cell_type": "code",
   "execution_count": null,
   "id": "c25723f9-039c-4bac-a086-1e4ddd5e3546",
   "metadata": {},
   "outputs": [],
   "source": [
    "x_train_е, x_test_е, y_train_е, y_test_е = train_test_split(x_е, y_е, random_state=823, test_size=0.30) "
   ]
  },
  {
   "cell_type": "markdown",
   "id": "8315eb01-71ae-4278-85cb-875c68769759",
   "metadata": {},
   "source": [
    "## Ако сакаме од една колона да издвоиме карактеристика (пр.машко женско, има над 5 под 5....)"
   ]
  },
  {
   "cell_type": "code",
   "execution_count": null,
   "id": "8921187d-3133-423f-97ba-1ea790215a66",
   "metadata": {},
   "outputs": [],
   "source": [
    "df_karakteristika_1 = df[df['kolona od interes'] ==kritetium] # moze i < > ....\n",
    "df_karakteriska_2 = df[df['kolona od interes'] == kriterium]"
   ]
  },
  {
   "cell_type": "code",
   "execution_count": null,
   "id": "1a156ce6-53d5-4fb6-8526-415d2bb4958c",
   "metadata": {},
   "outputs": [],
   "source": [
    "df_karakteristika_1_y = df_karakteristika_1['kolona od interes za pogoduvanje']\n",
    "df_karakteristika_1_x = df_karakteristika_1.iloc[:, :-1] # site koloni osven poslednata (moze i kako pogore so zagradicka)\n",
    "# accuracy_score(df_karakteristika_1, clf.predict(df_karakteristika_1_x))# treniranje na model so prethodno definiram model i accuracy score importnato"
   ]
  },
  {
   "cell_type": "code",
   "execution_count": null,
   "id": "85bf5016-2bae-4b2b-8db2-3dd88f412a8c",
   "metadata": {},
   "outputs": [],
   "source": [
    "# po ova odime na train test split kako pogore"
   ]
  },
  {
   "cell_type": "markdown",
   "id": "ac7b6078-4261-4baa-bc63-9bfd0061e26a",
   "metadata": {},
   "source": [
    "## CRTANJE NA DRVOTO NA RAZGRANUVANJE"
   ]
  },
  {
   "cell_type": "raw",
   "id": "4355e3f3-56ad-43d1-8218-a37f6c8c4219",
   "metadata": {},
   "source": [
    "Vo ovoj del e ograniceno kolku listovi odnosno nodes da ima "
   ]
  },
  {
   "cell_type": "code",
   "execution_count": null,
   "id": "a01e7669-7338-475e-b630-506c0ab4ab68",
   "metadata": {},
   "outputs": [],
   "source": [
    "import numpy as np\n",
    "from matplotlib import pyplot as plt\n",
    "from sklearn import tree\n",
    "from sklearn.tree import DecisionTreeClassifier"
   ]
  },
  {
   "cell_type": "code",
   "execution_count": 40,
   "id": "ff76757a-0e75-4be9-b3f3-dae96fa27c02",
   "metadata": {},
   "outputs": [],
   "source": [
    "clf = DecisionTreeClassifier(max_leaf_nodes=17, random_state=0)\n",
    "clf.fit(x_train_e, y_train_e)"
   ]
  },
  {
   "cell_type": "code",
   "execution_count": null,
   "id": "ec317ba3-4c2e-49ea-9873-e678a8dd6aa9",
   "metadata": {},
   "outputs": [],
   "source": [
    "tree.plot_tree(clf, proportion=True)\n",
    "plt.show()"
   ]
  },
  {
   "cell_type": "markdown",
   "id": "2eb73460-0205-4599-8bc2-7f4afa9d73f7",
   "metadata": {},
   "source": [
    "VO OVOJ DEL SO DLABOCINA"
   ]
  },
  {
   "cell_type": "code",
   "execution_count": null,
   "id": "62a54e32-c65d-4d06-aef0-d25a226aa8bd",
   "metadata": {},
   "outputs": [],
   "source": [
    "import numpy as np\n",
    "from matplotlib import pyplot as plt\n",
    "from sklearn import tree\n",
    "from sklearn.tree import DecisionTreeClassifier\n",
    "\n",
    "# Initialize the Decision Tree Classifier with max_depth=5\n",
    "clf = DecisionTreeClassifier(max_depth=5, random_state=0)\n",
    "\n",
    "# Fit the classifier with training data\n",
    "clf.fit(x_train, y_train)\n",
    "\n",
    "# Plot the decision tree with proportion=True\n",
    "plt.figure(figsize=(15, 10))  # Optional: Adjust figure size for better visualization\n",
    "tree.plot_tree(clf, proportion=True, filled=True, feature_names=x_train.columns, class_names=clf.classes_)\n",
    "plt.show()\n"
   ]
  },
  {
   "cell_type": "code",
   "execution_count": null,
   "id": "e37c3f38-384e-4329-a884-ecf1d0c0c3e8",
   "metadata": {},
   "outputs": [],
   "source": [
    "- ako gornoto ne raboti, ova raboti segde"
   ]
  },
  {
   "cell_type": "code",
   "execution_count": null,
   "id": "24321d0c-20cf-4e02-9dd1-2751c1898139",
   "metadata": {},
   "outputs": [],
   "source": [
    "import numpy as np\n",
    "from matplotlib import pyplot as plt\n",
    "from sklearn import tree\n",
    "from sklearn.tree import DecisionTreeClassifier\n",
    "\n",
    "# Initialize the Decision Tree Classifier with max_depth=5\n",
    "clf = DecisionTreeClassifier(max_depth=5, random_state=0)\n",
    "\n",
    "# Fit the classifier with training data\n",
    "clf.fit(x_train, y_train)\n",
    "\n",
    "# Convert class names to strings\n",
    "class_names = list(map(str, clf.classes_))\n",
    "\n",
    "# Plot the decision tree with proportion=True\n",
    "plt.figure(figsize=(15, 10))  # Optional: Adjust figure size for better visualization\n",
    "tree.plot_tree(clf, proportion=True, filled=True, feature_names=x_train.columns, class_names=class_names)\n",
    "plt.show()\n",
    "\n"
   ]
  },
  {
   "cell_type": "markdown",
   "id": "ba42b9ca-ae8f-4183-ba2f-5d1942bcc9ea",
   "metadata": {},
   "source": [
    "## CRTANJE NA GRAFIK"
   ]
  },
  {
   "cell_type": "code",
   "execution_count": null,
   "id": "a7c34ae6-db98-4d03-b33f-a12b846329b1",
   "metadata": {},
   "outputs": [],
   "source": [
    "import plotly.express as px\n",
    "fig = px.scatter(df, x=\"Gold Medal\", y=\"Rank By Total\", color=\"Total\", symbol=\"Total\")\n",
    "fig.show()"
   ]
  },
  {
   "cell_type": "code",
   "execution_count": null,
   "id": "97f2cd84-a783-4705-a5bc-32ac9d1ff244",
   "metadata": {},
   "outputs": [],
   "source": [
    "import plotly.express as px\n",
    "\n",
    "# Прикажување во различни редови за различни полови\n",
    "fig = px.scatter(\n",
    "    df_train, \n",
    "    x=\"Age\", \n",
    "    y=\"Product_Purchase\", \n",
    "    color=\"Age\", \n",
    "    facet_row=\"Gender\",  # Создава график за секој пол\n",
    "    color_continuous_scale=\"pinkyl\",  # Палета со нежни розови нијанси\n",
    "    opacity=0.7  # Поставување транспарентност\n",
    ")\n",
    "\n",
    "# Подесување на насловите и изгледот\n",
    "fig.update_layout(\n",
    "    title=\"Scatter Plot of Age vs Product Purchase\",\n",
    "    xaxis_title=\"Age\",\n",
    "    yaxis_title=\"Product Purchase\",\n",
    "    legend_title=\"Age\",\n",
    "    height=600  # Висина на графикот\n",
    ")\n",
    "\n",
    "fig.show()"
   ]
  },
  {
   "cell_type": "markdown",
   "id": "c4a75758-34b5-405a-9c3a-596d95af0ff5",
   "metadata": {},
   "source": [
    "## Со погоди го пингвинот делот"
   ]
  },
  {
   "cell_type": "code",
   "execution_count": null,
   "id": "eb8b770d-25c1-421f-8b9d-fc100984518e",
   "metadata": {},
   "outputs": [],
   "source": [
    "df=pd.read_csv('/app/labs/data/penguins.csv')\n",
    "df.columns\n",
    "\n",
    "from sklearn.preprocessing import LabelEncoder\n",
    "le=LabelEncoder()\n",
    "categorical_columns = ['island', 'culmen_length_mm', 'culmen_depth_mm',\n",
    "       'flipper_length_mm', 'body_mass_g', 'sex']\n",
    "\n",
    "for column in categorical_columns:\n",
    "    df[column] = le.fit_transform(df[column])\n",
    "x=df.iloc[:,1:] # gi zema site koloni posle prvata\n",
    "y=df.iloc[:,:1] # ja zema prvata kolona\n",
    "\n",
    "from sklearn.model_selection import train_test_split\n",
    "train_x, test_x, train_y, test_y = train_test_split(x, y1, test_size=0.3, random_state=155)\n",
    "\n",
    "clf = MLPClassifier(solver='lbfgs', alpha=1e-5, random_state=1)\n",
    "\n",
    "clf.fit(train_x,train_y)\n",
    "\n",
    "test_df=pd.DataFrame(\n",
    "    [['Torgersen',72,34,202,4450,'MALE']],columns=['island','culmen_length_mm','culmen_depth_mm','flipper_length_mm','body_mass_g','sex'])\n",
    "test_df['island']=le.fit_transform(test_df['island'])\n",
    "test_df['sex']=le.fit_transform(test_df['sex'])\n",
    "prediction=clf.predict(test_df)\n",
    "prediction\n"
   ]
  },
  {
   "cell_type": "code",
   "execution_count": null,
   "id": "c5fcbcef-bd93-4c04-9091-e4e99561f60c",
   "metadata": {},
   "outputs": [],
   "source": []
  },
  {
   "cell_type": "code",
   "execution_count": null,
   "id": "1c468828-c206-43fd-b165-5eb2e953eccc",
   "metadata": {},
   "outputs": [],
   "source": []
  },
  {
   "cell_type": "code",
   "execution_count": null,
   "id": "15f46faa-d1f4-4879-86cd-565052249b57",
   "metadata": {},
   "outputs": [],
   "source": []
  },
  {
   "cell_type": "code",
   "execution_count": null,
   "id": "f3b2b0ab-5072-43b5-a341-4c5658c69521",
   "metadata": {},
   "outputs": [],
   "source": []
  }
 ],
 "metadata": {
  "kernelspec": {
   "display_name": "Python 3 (ipykernel)",
   "language": "python",
   "name": "python3"
  },
  "language_info": {
   "codemirror_mode": {
    "name": "ipython",
    "version": 3
   },
   "file_extension": ".py",
   "mimetype": "text/x-python",
   "name": "python",
   "nbconvert_exporter": "python",
   "pygments_lexer": "ipython3",
   "version": "3.12.6"
  }
 },
 "nbformat": 4,
 "nbformat_minor": 5
}
